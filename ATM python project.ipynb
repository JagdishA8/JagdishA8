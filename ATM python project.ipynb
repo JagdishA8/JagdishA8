{
 "cells": [
  {
   "cell_type": "code",
   "execution_count": 1,
   "id": "520b4862",
   "metadata": {},
   "outputs": [
    {
     "name": "stdout",
     "output_type": "stream",
     "text": [
      "********************************************************************************************\n",
      "     welcome         to             SBI                ATM\n",
      "********************************************************************************************\n",
      "enter your card pin :1199\n",
      "welcome mr.jagdish nice to see you again\n",
      "choose option \n",
      " 1:cash withdraw \n",
      " 2:cash deposit \n",
      " 3:check balance \n",
      " 4:change pin \n",
      " 5: exit \n",
      "choose options5\n",
      "thank you mr.jagdish  for banking with us \n",
      " see you again \n"
     ]
    }
   ],
   "source": [
    "print('********************************************************************************************')\n",
    "print('     welcome         to             SBI                ATM')\n",
    "print('********************************************************************************************')\n",
    "\n",
    "pin=1199\n",
    "\n",
    "balance=50000\n",
    "mpin=int(input(\"enter your card pin :\"))\n",
    "if pin==mpin:\n",
    "        \n",
    "        print(\"welcome mr.jagdish nice to see you again\")\n",
    "        print(\"choose option \\n 1:cash withdraw \\n 2:cash deposit \\n 3:check balance \\n 4:change pin \\n 5: exit \")\n",
    "        option=int(input(\"choose options\"))\n",
    "    \n",
    "        if option==1:\n",
    "            cash_withdraw=int(input(\"enter ammount\"))\n",
    "            if cash_withdraw<=50000:\n",
    "                    balance=cash_withdraw-balance\n",
    "                    print('your balance',balance) \n",
    "            else:\n",
    "                print(\"insufficient ammount \")\n",
    "                print(\"your balance is:\",balance)\n",
    " \n",
    "        elif option==2:\n",
    "             deposit=int(input('deposit amount'))\n",
    "             balance=balance+deposit\n",
    "              \n",
    "        elif option==3:\n",
    "            check_balance=balance\n",
    "            print(\"available balance:\",check_balance)\n",
    "            \n",
    "        elif option==4:\n",
    "            old_pin=int(input(\"enter your old pin\"))\n",
    "            if old_pin==pin:\n",
    "                pin=int(input('enter your new pin'))\n",
    "                print('yor pin changed sucessfuly',pin)\n",
    "            else:\n",
    "                print(' you have entered wrong pin')\n",
    "                \n",
    "        elif option==5:\n",
    "                print(\"thank you mr.jagdish  for banking with us \\n see you again \")\n",
    "                exit()\n",
    "else:\n",
    "    print(\"you have entered wrong pin \\n try with another pin \")\n",
    "                \n",
    "                "
   ]
  },
  {
   "cell_type": "code",
   "execution_count": null,
   "id": "3cbdfa28",
   "metadata": {},
   "outputs": [],
   "source": []
  },
  {
   "cell_type": "code",
   "execution_count": null,
   "id": "0a189ca4",
   "metadata": {},
   "outputs": [],
   "source": []
  }
 ],
 "metadata": {
  "kernelspec": {
   "display_name": "Python 3 (ipykernel)",
   "language": "python",
   "name": "python3"
  },
  "language_info": {
   "codemirror_mode": {
    "name": "ipython",
    "version": 3
   },
   "file_extension": ".py",
   "mimetype": "text/x-python",
   "name": "python",
   "nbconvert_exporter": "python",
   "pygments_lexer": "ipython3",
   "version": "3.9.12"
  }
 },
 "nbformat": 4,
 "nbformat_minor": 5
}
